{
 "cells": [
  {
   "cell_type": "code",
   "execution_count": 1,
   "metadata": {},
   "outputs": [
    {
     "name": "stdout",
     "output_type": "stream",
     "text": [
      "Looking in links: https://download.pytorch.org/whl/lts/1.8/torch_lts.html\n",
      "Collecting torch==1.8.2+cu111\n",
      "  Downloading https://download.pytorch.org/whl/lts/1.8/cu111/torch-1.8.2%2Bcu111-cp38-cp38-win_amd64.whl (3057.4 MB)\n",
      "Collecting torchvision==0.9.2+cu111\n",
      "  Downloading https://download.pytorch.org/whl/lts/1.8/cu111/torchvision-0.9.2%2Bcu111-cp38-cp38-win_amd64.whl (1.9 MB)\n",
      "Collecting torchaudio===0.8.2\n",
      "  Downloading https://download.pytorch.org/whl/lts/1.8/torchaudio-0.8.2-cp38-none-win_amd64.whl (109 kB)\n",
      "Requirement already satisfied: typing-extensions in z:\\anaconda\\lib\\site-packages (from torch==1.8.2+cu111) (3.7.4.2)\n",
      "Requirement already satisfied: numpy in z:\\anaconda\\lib\\site-packages (from torch==1.8.2+cu111) (1.19.5)\n",
      "Requirement already satisfied: pillow>=4.1.1 in z:\\anaconda\\lib\\site-packages (from torchvision==0.9.2+cu111) (7.2.0)\n",
      "Installing collected packages: torch, torchvision, torchaudio\n",
      "  Attempting uninstall: torch\n",
      "    Found existing installation: torch 1.8.1+cu111\n",
      "    Uninstalling torch-1.8.1+cu111:\n",
      "      Successfully uninstalled torch-1.8.1+cu111\n",
      "  Attempting uninstall: torchvision\n",
      "    Found existing installation: torchvision 0.9.1+cu111\n",
      "    Uninstalling torchvision-0.9.1+cu111:\n",
      "      Successfully uninstalled torchvision-0.9.1+cu111\n",
      "  Attempting uninstall: torchaudio\n",
      "    Found existing installation: torchaudio 0.8.1\n",
      "    Uninstalling torchaudio-0.8.1:\n",
      "      Successfully uninstalled torchaudio-0.8.1\n",
      "Successfully installed torch-1.8.2+cu111 torchaudio-0.8.2 torchvision-0.9.2+cu111\n"
     ]
    }
   ],
   "source": [
    "!pip install torch==1.8.2+cu111 torchvision==0.9.2+cu111 torchaudio===0.8.2 -f https://download.pytorch.org/whl/lts/1.8/torch_lts.html"
   ]
  },
  {
   "cell_type": "code",
   "execution_count": 1,
   "metadata": {
    "scrolled": true
   },
   "outputs": [
    {
     "name": "stdout",
     "output_type": "stream",
     "text": [
      "Requirement already up-to-date: transformers in z:\\anaconda\\lib\\site-packages (4.12.3)\n",
      "Requirement already up-to-date: ipywidgets in z:\\anaconda\\lib\\site-packages (7.6.5)\n",
      "Requirement already up-to-date: gradio in z:\\anaconda\\lib\\site-packages (2.4.1)\n",
      "Requirement already satisfied, skipping upgrade: filelock in z:\\anaconda\\lib\\site-packages (from transformers) (3.0.12)\n",
      "Requirement already satisfied, skipping upgrade: huggingface-hub<1.0,>=0.1.0 in z:\\anaconda\\lib\\site-packages (from transformers) (0.1.0)\n",
      "Requirement already satisfied, skipping upgrade: numpy>=1.17 in z:\\anaconda\\lib\\site-packages (from transformers) (1.19.5)\n",
      "Requirement already satisfied, skipping upgrade: packaging>=20.0 in z:\\anaconda\\lib\\site-packages (from transformers) (21.2)\n",
      "Requirement already satisfied, skipping upgrade: tqdm>=4.27 in z:\\anaconda\\lib\\site-packages (from transformers) (4.47.0)\n",
      "Requirement already satisfied, skipping upgrade: tokenizers<0.11,>=0.10.1 in z:\\anaconda\\lib\\site-packages (from transformers) (0.10.3)\n",
      "Requirement already satisfied, skipping upgrade: pyyaml>=5.1 in z:\\anaconda\\lib\\site-packages (from transformers) (5.3.1)\n",
      "Requirement already satisfied, skipping upgrade: regex!=2019.12.17 in z:\\anaconda\\lib\\site-packages (from transformers) (2020.6.8)\n",
      "Requirement already satisfied, skipping upgrade: requests in z:\\anaconda\\lib\\site-packages (from transformers) (2.24.0)\n",
      "Requirement already satisfied, skipping upgrade: sacremoses in z:\\anaconda\\lib\\site-packages (from transformers) (0.0.46)\n",
      "Requirement already satisfied, skipping upgrade: widgetsnbextension~=3.5.0 in z:\\anaconda\\lib\\site-packages (from ipywidgets) (3.5.1)\n",
      "Requirement already satisfied, skipping upgrade: ipykernel>=4.5.1 in z:\\anaconda\\lib\\site-packages (from ipywidgets) (5.3.2)\n",
      "Requirement already satisfied, skipping upgrade: ipython-genutils~=0.2.0 in z:\\anaconda\\lib\\site-packages (from ipywidgets) (0.2.0)\n",
      "Requirement already satisfied, skipping upgrade: jupyterlab-widgets>=1.0.0; python_version >= \"3.6\" in z:\\anaconda\\lib\\site-packages (from ipywidgets) (1.0.2)\n",
      "Requirement already satisfied, skipping upgrade: ipython>=4.0.0; python_version >= \"3.3\" in z:\\anaconda\\lib\\site-packages (from ipywidgets) (7.16.1)\n",
      "Requirement already satisfied, skipping upgrade: traitlets>=4.3.1 in z:\\anaconda\\lib\\site-packages (from ipywidgets) (4.3.3)\n",
      "Requirement already satisfied, skipping upgrade: nbformat>=4.2.0 in z:\\anaconda\\lib\\site-packages (from ipywidgets) (5.0.7)\n",
      "Requirement already satisfied, skipping upgrade: Flask>=1.1.1 in z:\\anaconda\\lib\\site-packages (from gradio) (1.1.2)\n",
      "Requirement already satisfied, skipping upgrade: markdown2 in z:\\anaconda\\lib\\site-packages (from gradio) (2.4.1)\n",
      "Requirement already satisfied, skipping upgrade: matplotlib in z:\\anaconda\\lib\\site-packages (from gradio) (3.2.2)\n",
      "Requirement already satisfied, skipping upgrade: flask-cachebuster in z:\\anaconda\\lib\\site-packages (from gradio) (1.0.0)\n",
      "Requirement already satisfied, skipping upgrade: paramiko in z:\\anaconda\\lib\\site-packages (from gradio) (2.7.1)\n",
      "Requirement already satisfied, skipping upgrade: Flask-Cors>=3.0.8 in z:\\anaconda\\lib\\site-packages (from gradio) (3.0.10)\n",
      "Requirement already satisfied, skipping upgrade: pandas in z:\\anaconda\\lib\\site-packages (from gradio) (1.0.5)\n",
      "Requirement already satisfied, skipping upgrade: pillow in z:\\anaconda\\lib\\site-packages (from gradio) (7.2.0)\n",
      "Requirement already satisfied, skipping upgrade: ffmpy in z:\\anaconda\\lib\\site-packages (from gradio) (0.3.0)\n",
      "Requirement already satisfied, skipping upgrade: pycryptodome in z:\\anaconda\\lib\\site-packages (from gradio) (3.11.0)\n",
      "Requirement already satisfied, skipping upgrade: pydub in z:\\anaconda\\lib\\site-packages (from gradio) (0.25.1)\n",
      "Requirement already satisfied, skipping upgrade: Flask-Login in z:\\anaconda\\lib\\site-packages (from gradio) (0.5.0)\n",
      "Requirement already satisfied, skipping upgrade: analytics-python in z:\\anaconda\\lib\\site-packages (from gradio) (1.4.0)\n",
      "Requirement already satisfied, skipping upgrade: typing-extensions in z:\\anaconda\\lib\\site-packages (from huggingface-hub<1.0,>=0.1.0->transformers) (3.7.4.2)\n",
      "Requirement already satisfied, skipping upgrade: pyparsing<3,>=2.0.2 in z:\\anaconda\\lib\\site-packages (from packaging>=20.0->transformers) (2.4.7)\n",
      "Requirement already satisfied, skipping upgrade: chardet<4,>=3.0.2 in z:\\anaconda\\lib\\site-packages (from requests->transformers) (3.0.4)\n",
      "Requirement already satisfied, skipping upgrade: urllib3!=1.25.0,!=1.25.1,<1.26,>=1.21.1 in z:\\anaconda\\lib\\site-packages (from requests->transformers) (1.25.9)\n",
      "Requirement already satisfied, skipping upgrade: certifi>=2017.4.17 in z:\\anaconda\\lib\\site-packages (from requests->transformers) (2020.6.20)\n",
      "Requirement already satisfied, skipping upgrade: idna<3,>=2.5 in z:\\anaconda\\lib\\site-packages (from requests->transformers) (2.10)\n",
      "Requirement already satisfied, skipping upgrade: six in z:\\anaconda\\lib\\site-packages (from sacremoses->transformers) (1.15.0)\n",
      "Requirement already satisfied, skipping upgrade: joblib in z:\\anaconda\\lib\\site-packages (from sacremoses->transformers) (0.16.0)\n",
      "Requirement already satisfied, skipping upgrade: click in z:\\anaconda\\lib\\site-packages (from sacremoses->transformers) (7.1.2)\n",
      "Requirement already satisfied, skipping upgrade: notebook>=4.4.1 in z:\\anaconda\\lib\\site-packages (from widgetsnbextension~=3.5.0->ipywidgets) (6.0.3)\n",
      "Requirement already satisfied, skipping upgrade: tornado>=4.2 in z:\\anaconda\\lib\\site-packages (from ipykernel>=4.5.1->ipywidgets) (6.0.4)\n",
      "Requirement already satisfied, skipping upgrade: jupyter-client in z:\\anaconda\\lib\\site-packages (from ipykernel>=4.5.1->ipywidgets) (6.1.6)\n",
      "Requirement already satisfied, skipping upgrade: colorama; sys_platform == \"win32\" in z:\\anaconda\\lib\\site-packages (from ipython>=4.0.0; python_version >= \"3.3\"->ipywidgets) (0.4.3)\n",
      "Requirement already satisfied, skipping upgrade: prompt-toolkit!=3.0.0,!=3.0.1,<3.1.0,>=2.0.0 in z:\\anaconda\\lib\\site-packages (from ipython>=4.0.0; python_version >= \"3.3\"->ipywidgets) (3.0.5)\n",
      "Requirement already satisfied, skipping upgrade: decorator in z:\\anaconda\\lib\\site-packages (from ipython>=4.0.0; python_version >= \"3.3\"->ipywidgets) (4.4.2)\n",
      "Requirement already satisfied, skipping upgrade: backcall in z:\\anaconda\\lib\\site-packages (from ipython>=4.0.0; python_version >= \"3.3\"->ipywidgets) (0.2.0)\n",
      "Requirement already satisfied, skipping upgrade: pygments in z:\\anaconda\\lib\\site-packages (from ipython>=4.0.0; python_version >= \"3.3\"->ipywidgets) (2.6.1)\n",
      "Requirement already satisfied, skipping upgrade: jedi>=0.10 in z:\\anaconda\\lib\\site-packages (from ipython>=4.0.0; python_version >= \"3.3\"->ipywidgets) (0.17.1)\n",
      "Requirement already satisfied, skipping upgrade: pickleshare in z:\\anaconda\\lib\\site-packages (from ipython>=4.0.0; python_version >= \"3.3\"->ipywidgets) (0.7.5)\n",
      "Requirement already satisfied, skipping upgrade: setuptools>=18.5 in z:\\anaconda\\lib\\site-packages (from ipython>=4.0.0; python_version >= \"3.3\"->ipywidgets) (49.2.0.post20200714)\n",
      "Requirement already satisfied, skipping upgrade: jupyter-core in z:\\anaconda\\lib\\site-packages (from nbformat>=4.2.0->ipywidgets) (4.6.3)\n",
      "Requirement already satisfied, skipping upgrade: jsonschema!=2.5.0,>=2.4 in z:\\anaconda\\lib\\site-packages (from nbformat>=4.2.0->ipywidgets) (3.2.0)\n",
      "Requirement already satisfied, skipping upgrade: Jinja2>=2.10.1 in z:\\anaconda\\lib\\site-packages (from Flask>=1.1.1->gradio) (2.11.2)\n",
      "Requirement already satisfied, skipping upgrade: Werkzeug>=0.15 in z:\\anaconda\\lib\\site-packages (from Flask>=1.1.1->gradio) (1.0.1)\n",
      "Requirement already satisfied, skipping upgrade: itsdangerous>=0.24 in z:\\anaconda\\lib\\site-packages (from Flask>=1.1.1->gradio) (1.1.0)\n",
      "Requirement already satisfied, skipping upgrade: kiwisolver>=1.0.1 in z:\\anaconda\\lib\\site-packages (from matplotlib->gradio) (1.2.0)\n",
      "Requirement already satisfied, skipping upgrade: python-dateutil>=2.1 in z:\\anaconda\\lib\\site-packages (from matplotlib->gradio) (2.8.1)\n",
      "Requirement already satisfied, skipping upgrade: cycler>=0.10 in z:\\anaconda\\lib\\site-packages (from matplotlib->gradio) (0.10.0)\n",
      "Requirement already satisfied, skipping upgrade: cryptography>=2.5 in z:\\anaconda\\lib\\site-packages (from paramiko->gradio) (2.9.2)\n",
      "Requirement already satisfied, skipping upgrade: pynacl>=1.0.1 in z:\\anaconda\\lib\\site-packages (from paramiko->gradio) (1.4.0)\n",
      "Requirement already satisfied, skipping upgrade: bcrypt>=3.1.3 in z:\\anaconda\\lib\\site-packages (from paramiko->gradio) (3.1.7)\n",
      "Requirement already satisfied, skipping upgrade: pytz>=2017.2 in z:\\anaconda\\lib\\site-packages (from pandas->gradio) (2020.1)\n",
      "Requirement already satisfied, skipping upgrade: monotonic>=1.5 in z:\\anaconda\\lib\\site-packages (from analytics-python->gradio) (1.6)\n",
      "Requirement already satisfied, skipping upgrade: backoff==1.10.0 in z:\\anaconda\\lib\\site-packages (from analytics-python->gradio) (1.10.0)\n",
      "Requirement already satisfied, skipping upgrade: nbconvert in z:\\anaconda\\lib\\site-packages (from notebook>=4.4.1->widgetsnbextension~=3.5.0->ipywidgets) (5.6.1)\n",
      "Requirement already satisfied, skipping upgrade: prometheus-client in z:\\anaconda\\lib\\site-packages (from notebook>=4.4.1->widgetsnbextension~=3.5.0->ipywidgets) (0.8.0)\n",
      "Requirement already satisfied, skipping upgrade: terminado>=0.8.1 in z:\\anaconda\\lib\\site-packages (from notebook>=4.4.1->widgetsnbextension~=3.5.0->ipywidgets) (0.8.3)\n",
      "Requirement already satisfied, skipping upgrade: pyzmq>=17 in z:\\anaconda\\lib\\site-packages (from notebook>=4.4.1->widgetsnbextension~=3.5.0->ipywidgets) (19.0.1)\n",
      "Requirement already satisfied, skipping upgrade: Send2Trash in z:\\anaconda\\lib\\site-packages (from notebook>=4.4.1->widgetsnbextension~=3.5.0->ipywidgets) (1.5.0)\n",
      "Requirement already satisfied, skipping upgrade: wcwidth in z:\\anaconda\\lib\\site-packages (from prompt-toolkit!=3.0.0,!=3.0.1,<3.1.0,>=2.0.0->ipython>=4.0.0; python_version >= \"3.3\"->ipywidgets) (0.2.5)\n",
      "Requirement already satisfied, skipping upgrade: parso<0.8.0,>=0.7.0 in z:\\anaconda\\lib\\site-packages (from jedi>=0.10->ipython>=4.0.0; python_version >= \"3.3\"->ipywidgets) (0.7.0)\n",
      "Requirement already satisfied, skipping upgrade: pywin32>=1.0; sys_platform == \"win32\" in z:\\anaconda\\lib\\site-packages (from jupyter-core->nbformat>=4.2.0->ipywidgets) (227)\n",
      "Requirement already satisfied, skipping upgrade: attrs>=17.4.0 in z:\\anaconda\\lib\\site-packages (from jsonschema!=2.5.0,>=2.4->nbformat>=4.2.0->ipywidgets) (19.3.0)\n",
      "Requirement already satisfied, skipping upgrade: pyrsistent>=0.14.0 in z:\\anaconda\\lib\\site-packages (from jsonschema!=2.5.0,>=2.4->nbformat>=4.2.0->ipywidgets) (0.16.0)\n",
      "Requirement already satisfied, skipping upgrade: MarkupSafe>=0.23 in z:\\anaconda\\lib\\site-packages (from Jinja2>=2.10.1->Flask>=1.1.1->gradio) (1.1.1)\n",
      "Requirement already satisfied, skipping upgrade: cffi!=1.11.3,>=1.8 in z:\\anaconda\\lib\\site-packages (from cryptography>=2.5->paramiko->gradio) (1.14.0)\n",
      "Requirement already satisfied, skipping upgrade: mistune<2,>=0.8.1 in z:\\anaconda\\lib\\site-packages (from nbconvert->notebook>=4.4.1->widgetsnbextension~=3.5.0->ipywidgets) (0.8.4)\n",
      "Requirement already satisfied, skipping upgrade: defusedxml in z:\\anaconda\\lib\\site-packages (from nbconvert->notebook>=4.4.1->widgetsnbextension~=3.5.0->ipywidgets) (0.6.0)\n",
      "Requirement already satisfied, skipping upgrade: pandocfilters>=1.4.1 in z:\\anaconda\\lib\\site-packages (from nbconvert->notebook>=4.4.1->widgetsnbextension~=3.5.0->ipywidgets) (1.4.2)\n",
      "Requirement already satisfied, skipping upgrade: entrypoints>=0.2.2 in z:\\anaconda\\lib\\site-packages (from nbconvert->notebook>=4.4.1->widgetsnbextension~=3.5.0->ipywidgets) (0.3)\n",
      "Requirement already satisfied, skipping upgrade: testpath in z:\\anaconda\\lib\\site-packages (from nbconvert->notebook>=4.4.1->widgetsnbextension~=3.5.0->ipywidgets) (0.4.4)\n",
      "Requirement already satisfied, skipping upgrade: bleach in z:\\anaconda\\lib\\site-packages (from nbconvert->notebook>=4.4.1->widgetsnbextension~=3.5.0->ipywidgets) (3.1.5)\n",
      "Requirement already satisfied, skipping upgrade: pycparser in z:\\anaconda\\lib\\site-packages (from cffi!=1.11.3,>=1.8->cryptography>=2.5->paramiko->gradio) (2.20)\n",
      "Requirement already satisfied, skipping upgrade: webencodings in z:\\anaconda\\lib\\site-packages (from bleach->nbconvert->notebook>=4.4.1->widgetsnbextension~=3.5.0->ipywidgets) (0.5.1)\n"
     ]
    }
   ],
   "source": [
    "!pip install transformers ipywidgets gradio --upgrade"
   ]
  },
  {
   "cell_type": "code",
   "execution_count": 1,
   "metadata": {},
   "outputs": [],
   "source": [
    "import gradio as gr #UI library\n",
    "from transformers import pipeline #transformers pipeline"
   ]
  },
  {
   "cell_type": "markdown",
   "metadata": {},
   "source": [
    "# 2. Load Up Pipeline"
   ]
  },
  {
   "cell_type": "code",
   "execution_count": 2,
   "metadata": {
    "scrolled": true
   },
   "outputs": [
    {
     "data": {
      "application/vnd.jupyter.widget-view+json": {
       "model_id": "45b73ec977a949eb9d75bdaf7ec7df51",
       "version_major": 2,
       "version_minor": 0
      },
      "text/plain": [
       "HBox(children=(FloatProgress(value=0.0, description='Downloading', max=825924.0, style=ProgressStyle(descripti…"
      ]
     },
     "metadata": {},
     "output_type": "display_data"
    },
    {
     "name": "stdout",
     "output_type": "stream",
     "text": [
      "\n"
     ]
    },
    {
     "data": {
      "application/vnd.jupyter.widget-view+json": {
       "model_id": "38e8535c761247d583f30f12de8a9bff",
       "version_major": 2,
       "version_minor": 0
      },
      "text/plain": [
       "HBox(children=(FloatProgress(value=0.0, description='Downloading', max=801636.0, style=ProgressStyle(descripti…"
      ]
     },
     "metadata": {},
     "output_type": "display_data"
    },
    {
     "name": "stdout",
     "output_type": "stream",
     "text": [
      "\n"
     ]
    },
    {
     "data": {
      "application/vnd.jupyter.widget-view+json": {
       "model_id": "8c67cfcabda94c4bbaf61b0cf043866e",
       "version_major": 2,
       "version_minor": 0
      },
      "text/plain": [
       "HBox(children=(FloatProgress(value=0.0, description='Downloading', max=1590040.0, style=ProgressStyle(descript…"
      ]
     },
     "metadata": {},
     "output_type": "display_data"
    },
    {
     "name": "stdout",
     "output_type": "stream",
     "text": [
      "\n"
     ]
    }
   ],
   "source": [
    "translation_pipeline = pipeline(model = 'Helsinki-NLP/opus-mt-es-en', task = \"translation\")"
   ]
  },
  {
   "cell_type": "code",
   "execution_count": 3,
   "metadata": {},
   "outputs": [],
   "source": [
    "result = translation_pipeline('Me gusta el helado')"
   ]
  },
  {
   "cell_type": "code",
   "execution_count": 4,
   "metadata": {},
   "outputs": [
    {
     "data": {
      "text/plain": [
       "'I like ice cream.'"
      ]
     },
     "execution_count": 4,
     "metadata": {},
     "output_type": "execute_result"
    }
   ],
   "source": [
    "result[0]['translation_text']"
   ]
  },
  {
   "cell_type": "markdown",
   "metadata": {},
   "source": [
    "# 3. Create Gradio Function and Interface"
   ]
  },
  {
   "cell_type": "code",
   "execution_count": 5,
   "metadata": {},
   "outputs": [],
   "source": [
    "def translate_trasnformers(from_text):\n",
    "    results = translation_pipeline(from_text)\n",
    "    return results[0]['translation_text']"
   ]
  },
  {
   "cell_type": "code",
   "execution_count": 6,
   "metadata": {},
   "outputs": [
    {
     "data": {
      "text/plain": [
       "'Nick is my name.'"
      ]
     },
     "execution_count": 6,
     "metadata": {},
     "output_type": "execute_result"
    }
   ],
   "source": [
    "translate_trasnformers('nick es mi nombre')"
   ]
  },
  {
   "cell_type": "code",
   "execution_count": 7,
   "metadata": {},
   "outputs": [],
   "source": [
    "interface = gr.Interface(fn=translate_trasnformers,\n",
    "                         inputs = gr.inputs.Textbox(lines = 2, placeholder = 'Text to translate'),\n",
    "                        outputs = 'text')"
   ]
  },
  {
   "cell_type": "code",
   "execution_count": 8,
   "metadata": {},
   "outputs": [
    {
     "name": "stdout",
     "output_type": "stream",
     "text": [
      "Running locally at: http://127.0.0.1:7860/\n",
      "To create a public link, set `share=True` in `launch()`.\n"
     ]
    },
    {
     "data": {
      "text/html": [
       "\n",
       "        <iframe\n",
       "            width=\"900\"\n",
       "            height=\"500\"\n",
       "            src=\"http://127.0.0.1:7860/\"\n",
       "            frameborder=\"0\"\n",
       "            allowfullscreen\n",
       "        ></iframe>\n",
       "        "
      ],
      "text/plain": [
       "<IPython.lib.display.IFrame at 0x20114d84fa0>"
      ]
     },
     "metadata": {},
     "output_type": "display_data"
    },
    {
     "data": {
      "text/plain": [
       "(<Flask 'gradio.networking'>, 'http://127.0.0.1:7860/', None)"
      ]
     },
     "execution_count": 8,
     "metadata": {},
     "output_type": "execute_result"
    }
   ],
   "source": [
    "interface.launch()"
   ]
  },
  {
   "cell_type": "code",
   "execution_count": null,
   "metadata": {},
   "outputs": [],
   "source": []
  }
 ],
 "metadata": {
  "kernelspec": {
   "display_name": "Python 3",
   "language": "python",
   "name": "python3"
  },
  "language_info": {
   "codemirror_mode": {
    "name": "ipython",
    "version": 3
   },
   "file_extension": ".py",
   "mimetype": "text/x-python",
   "name": "python",
   "nbconvert_exporter": "python",
   "pygments_lexer": "ipython3",
   "version": "3.8.3"
  }
 },
 "nbformat": 4,
 "nbformat_minor": 4
}
